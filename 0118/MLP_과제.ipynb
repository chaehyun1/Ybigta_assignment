{
  "cells": [
    {
      "cell_type": "markdown",
      "metadata": {
        "id": "4sSY3DjNbPEa"
      },
      "source": [
        "### 필요 Package download"
      ]
    },
    {
      "cell_type": "code",
      "execution_count": 1,
      "metadata": {
        "id": "PK3bVKuBcbZ6"
      },
      "outputs": [],
      "source": [
        "import torch\n",
        "import torchvision\n",
        "import torchvision.transforms as transforms"
      ]
    },
    {
      "cell_type": "code",
      "source": [
        "device = torch.device('cuda' if torch.cuda.is_available() else 'cpu')\n",
        "\n",
        "# 현재 gpu를 사용중이면 cuda로 출력됩니다!:\n",
        "# gpu 변경은 런타임 -> 런타임 유형변경 -> 하드웨어 가속기: GPU로 할 수 있습니다.\n",
        "\n",
        "print(device)"
      ],
      "metadata": {
        "colab": {
          "base_uri": "https://localhost:8080/"
        },
        "id": "B7Jp6DQLn3sz",
        "outputId": "0cdf0fd6-9b3b-4d80-9837-a7872aa07593"
      },
      "execution_count": 2,
      "outputs": [
        {
          "output_type": "stream",
          "name": "stdout",
          "text": [
            "cuda\n"
          ]
        }
      ]
    },
    {
      "cell_type": "markdown",
      "source": [
        "## 데이터 부연설명\n",
        "* 저희가 사용할 dataset은 cifar-10이라는 이름을 가진, 컬러 이미지 데이터 60,000개가 들어있는\n",
        "dataset입니다. <br>\n",
        "* 해당 dataset은 총 10개의 class로 나누어져 있으며, 이 task는 각 이미지에 대한 class의 분류 accuracy를 높이는 것이 목적입니다."
      ],
      "metadata": {
        "id": "W9v_beLpA34L"
      }
    },
    {
      "cell_type": "markdown",
      "source": [
        "### Data Normalize & DataLoader Settting"
      ],
      "metadata": {
        "id": "Z8e8Z-lhhxZ7"
      }
    },
    {
      "cell_type": "code",
      "execution_count": 3,
      "metadata": {
        "colab": {
          "base_uri": "https://localhost:8080/"
        },
        "id": "itmleb14cdyh",
        "outputId": "b7d61f1c-0650-4e44-c179-039f896ec105"
      },
      "outputs": [
        {
          "output_type": "stream",
          "name": "stdout",
          "text": [
            "Downloading https://www.cs.toronto.edu/~kriz/cifar-10-python.tar.gz to ./data/cifar-10-python.tar.gz\n"
          ]
        },
        {
          "output_type": "stream",
          "name": "stderr",
          "text": [
            "100%|██████████| 170498071/170498071 [00:04<00:00, 41181931.57it/s]\n"
          ]
        },
        {
          "output_type": "stream",
          "name": "stdout",
          "text": [
            "Extracting ./data/cifar-10-python.tar.gz to ./data\n",
            "Files already downloaded and verified\n"
          ]
        }
      ],
      "source": [
        "transform = transforms.Compose(\n",
        "    [transforms.ToTensor(),\n",
        "     transforms.Normalize((0.5, 0.5, 0.5), (0.5, 0.5, 0.5))])\n",
        "\n",
        "trainset = torchvision.datasets.CIFAR10(root='./data', train=True,\n",
        "                                        download=True, transform=transform)\n",
        "trainloader = torch.utils.data.DataLoader(trainset, batch_size=4,\n",
        "                                          shuffle=True, num_workers=2)\n",
        "\n",
        "testset = torchvision.datasets.CIFAR10(root='./data', train=False,\n",
        "                                       download=True, transform=transform)\n",
        "testloader = torch.utils.data.DataLoader(testset, batch_size=4,\n",
        "                                         shuffle=False, num_workers=2)\n",
        "\n",
        "classes = ('plane', 'car', 'bird', 'cat',\n",
        "           'deer', 'dog', 'frog', 'horse', 'ship', 'truck')"
      ]
    },
    {
      "cell_type": "code",
      "execution_count": 4,
      "metadata": {
        "colab": {
          "base_uri": "https://localhost:8080/",
          "height": 211
        },
        "id": "ViOCagdocmEt",
        "outputId": "541f77c0-ab0a-454f-fcaf-221056df3af3"
      },
      "outputs": [
        {
          "output_type": "stream",
          "name": "stdout",
          "text": [
            "  car  frog  deer horse\n"
          ]
        },
        {
          "output_type": "display_data",
          "data": {
            "text/plain": [
              "<Figure size 640x480 with 1 Axes>"
            ],
            "image/png": "[encoded data removed]"
          },
          "metadata": {}
        }
      ],
      "source": [
        "import matplotlib.pyplot as plt\n",
        "import numpy as np\n",
        "\n",
        "# 이미지를 보여주기 위한 함수\n",
        "\n",
        "\n",
        "def imshow(img):\n",
        "    img = img / 2 + 0.5     # 표준화 해제\n",
        "    npimg = img.numpy()\n",
        "    plt.imshow(np.transpose(npimg, (1, 2, 0)))\n",
        "\n",
        "\n",
        "# 학습용 이미지를 무작위로 가져오기\n",
        "dataiter = iter(trainloader)\n",
        "images, labels = dataiter.__next__()\n",
        "\n",
        "# 이미지 보여주기\n",
        "imshow(torchvision.utils.make_grid(images))\n",
        "# 정답(label) 출력\n",
        "print(' '.join('%5s' % classes[labels[j]] for j in range(4)))\n",
        "plt.show()"
      ]
    },
    {
      "cell_type": "code",
      "execution_count": 5,
      "metadata": {
        "id": "TQsfjGTWcm-i"
      },
      "outputs": [],
      "source": [
        "import torch.nn as nn\n",
        "import torch.nn.functional as F\n",
        "\n",
        "#해당 부분은 어느 정도 CNN의 개념이 포함되어 있습니다! 과제를 수행하는데 아무 관련도 없으니 그대로 두시면 됩니다!\n",
        "class Net(nn.Module):\n",
        "    def __init__(self):\n",
        "        super(Net, self).__init__()\n",
        "        self.conv1 = nn.Conv2d(3, 6, 5) # input channels, output channels, kernel size\n",
        "        self.pool = nn.MaxPool2d(2, 2)  # kernel size, stride, padding = 0 (default)\n",
        "        self.conv2 = nn.Conv2d(6, 16, 5)\n",
        "        #아래 부분의 코드를 수정 혹은 추가해주시면 됩니다! (layer를 추가할때는 self.fc'num'=nn.Linear(x,y)의 형태로 추가하시면 됩니다!)\n",
        "        self.fc1 = nn.Linear(400, 120) # input features, output features\n",
        "        self.fc2 = nn.Linear(120, 64)\n",
        "        self.fc3 = nn.Linear(64, 32)\n",
        "        self.fc4 = nn.Linear(32, 10)\n",
        "\n",
        "    def forward(self, x):\n",
        "        x = self.pool(F.relu(self.conv1(x)))\n",
        "        x = self.pool(F.relu(self.conv2(x)))\n",
        "        x = x.view(-1, 16 * 5 * 5)\n",
        "        #아래 부분에서 코드를 수정하거나 추가하여 forward 함수를 새롭게 지정해주시기 바랍니다!\n",
        "        #Hint: relu 함수는 출력층을 제외한 모든 층에서 활성화 함수로써 작동되어야 합니다.\n",
        "        x = F.relu(self.fc1(x))\n",
        "        x = F.relu(self.fc2(x))\n",
        "        x = F.relu(self.fc3(x))\n",
        "        x = self.fc4(x)\n",
        "        return x\n",
        "\n",
        "\n",
        "net = Net()"
      ]
    },
    {
      "cell_type": "code",
      "execution_count": 6,
      "metadata": {
        "id": "HmJhscg1dIhs"
      },
      "outputs": [],
      "source": [
        "import torch.optim as optim\n",
        "\n",
        "#optimizer를 변경하거나 수치를 조정해보는 것도 accuracy를 높이는 데 도움을 줄 수 있습니다!\n",
        "criterion = nn.CrossEntropyLoss()\n",
        "optimizer = optim.Adam(net.parameters(), lr=0.0005)"
      ]
    },
    {
      "cell_type": "code",
      "execution_count": 7,
      "metadata": {
        "colab": {
          "base_uri": "https://localhost:8080/"
        },
        "id": "wpAa24bGdT3_",
        "outputId": "8a13e480-472b-42f3-d11f-5f80d5830143"
      },
      "outputs": [
        {
          "output_type": "stream",
          "name": "stdout",
          "text": [
            "[1,  1000] epoch loss: 2.081\n",
            "[1,  2000] epoch loss: 1.899\n",
            "[1,  3000] epoch loss: 1.815\n",
            "[1,  4000] epoch loss: 1.676\n",
            "[1,  5000] epoch loss: 1.619\n",
            "[1,  6000] epoch loss: 1.592\n",
            "[1,  7000] epoch loss: 1.525\n",
            "[1,  8000] epoch loss: 1.524\n",
            "[1,  9000] epoch loss: 1.455\n",
            "[1, 10000] epoch loss: 1.444\n",
            "[1, 11000] epoch loss: 1.443\n",
            "[1, 12000] epoch loss: 1.410\n",
            "[2,  1000] epoch loss: 1.384\n",
            "[2,  2000] epoch loss: 1.353\n",
            "[2,  3000] epoch loss: 1.356\n",
            "[2,  4000] epoch loss: 1.315\n",
            "[2,  5000] epoch loss: 1.315\n",
            "[2,  6000] epoch loss: 1.315\n",
            "[2,  7000] epoch loss: 1.307\n",
            "[2,  8000] epoch loss: 1.300\n",
            "[2,  9000] epoch loss: 1.305\n",
            "[2, 10000] epoch loss: 1.274\n",
            "[2, 11000] epoch loss: 1.253\n",
            "[2, 12000] epoch loss: 1.251\n",
            "[3,  1000] epoch loss: 1.210\n",
            "[3,  2000] epoch loss: 1.208\n",
            "[3,  3000] epoch loss: 1.180\n",
            "[3,  4000] epoch loss: 1.188\n",
            "[3,  5000] epoch loss: 1.178\n",
            "[3,  6000] epoch loss: 1.173\n",
            "[3,  7000] epoch loss: 1.187\n",
            "[3,  8000] epoch loss: 1.156\n",
            "[3,  9000] epoch loss: 1.161\n",
            "[3, 10000] epoch loss: 1.143\n",
            "[3, 11000] epoch loss: 1.175\n",
            "[3, 12000] epoch loss: 1.155\n",
            "[4,  1000] epoch loss: 1.095\n",
            "[4,  2000] epoch loss: 1.087\n",
            "[4,  3000] epoch loss: 1.107\n",
            "[4,  4000] epoch loss: 1.113\n",
            "[4,  5000] epoch loss: 1.109\n",
            "[4,  6000] epoch loss: 1.058\n",
            "[4,  7000] epoch loss: 1.082\n",
            "[4,  8000] epoch loss: 1.087\n",
            "[4,  9000] epoch loss: 1.089\n",
            "[4, 10000] epoch loss: 1.091\n",
            "[4, 11000] epoch loss: 1.076\n",
            "[4, 12000] epoch loss: 1.066\n",
            "[5,  1000] epoch loss: 1.048\n",
            "[5,  2000] epoch loss: 1.023\n",
            "[5,  3000] epoch loss: 1.010\n",
            "[5,  4000] epoch loss: 1.006\n",
            "[5,  5000] epoch loss: 1.040\n",
            "[5,  6000] epoch loss: 1.020\n",
            "[5,  7000] epoch loss: 0.999\n",
            "[5,  8000] epoch loss: 1.020\n",
            "[5,  9000] epoch loss: 1.000\n",
            "[5, 10000] epoch loss: 1.052\n",
            "[5, 11000] epoch loss: 1.015\n",
            "[5, 12000] epoch loss: 0.998\n",
            "[6,  1000] epoch loss: 0.944\n",
            "[6,  2000] epoch loss: 0.970\n",
            "[6,  3000] epoch loss: 0.977\n",
            "[6,  4000] epoch loss: 0.963\n",
            "[6,  5000] epoch loss: 0.991\n",
            "[6,  6000] epoch loss: 0.976\n",
            "[6,  7000] epoch loss: 0.949\n",
            "[6,  8000] epoch loss: 0.948\n",
            "[6,  9000] epoch loss: 0.986\n",
            "[6, 10000] epoch loss: 0.975\n",
            "[6, 11000] epoch loss: 0.951\n",
            "[6, 12000] epoch loss: 0.975\n",
            "[7,  1000] epoch loss: 0.929\n",
            "[7,  2000] epoch loss: 0.920\n",
            "[7,  3000] epoch loss: 0.879\n",
            "[7,  4000] epoch loss: 0.878\n",
            "[7,  5000] epoch loss: 0.945\n",
            "[7,  6000] epoch loss: 0.933\n",
            "[7,  7000] epoch loss: 0.922\n",
            "[7,  8000] epoch loss: 0.919\n",
            "[7,  9000] epoch loss: 0.968\n",
            "[7, 10000] epoch loss: 0.935\n",
            "[7, 11000] epoch loss: 0.927\n",
            "[7, 12000] epoch loss: 0.948\n",
            "[8,  1000] epoch loss: 0.875\n",
            "[8,  2000] epoch loss: 0.860\n",
            "[8,  3000] epoch loss: 0.886\n",
            "[8,  4000] epoch loss: 0.872\n",
            "[8,  5000] epoch loss: 0.891\n",
            "[8,  6000] epoch loss: 0.882\n",
            "[8,  7000] epoch loss: 0.893\n",
            "[8,  8000] epoch loss: 0.884\n",
            "[8,  9000] epoch loss: 0.882\n",
            "[8, 10000] epoch loss: 0.916\n",
            "[8, 11000] epoch loss: 0.919\n",
            "[8, 12000] epoch loss: 0.909\n",
            "[9,  1000] epoch loss: 0.831\n",
            "[9,  2000] epoch loss: 0.837\n",
            "[9,  3000] epoch loss: 0.855\n",
            "[9,  4000] epoch loss: 0.869\n",
            "[9,  5000] epoch loss: 0.855\n",
            "[9,  6000] epoch loss: 0.833\n",
            "[9,  7000] epoch loss: 0.883\n",
            "[9,  8000] epoch loss: 0.840\n",
            "[9,  9000] epoch loss: 0.884\n",
            "[9, 10000] epoch loss: 0.863\n",
            "[9, 11000] epoch loss: 0.877\n",
            "[9, 12000] epoch loss: 0.879\n",
            "[10,  1000] epoch loss: 0.786\n",
            "[10,  2000] epoch loss: 0.826\n",
            "[10,  3000] epoch loss: 0.806\n",
            "[10,  4000] epoch loss: 0.810\n",
            "[10,  5000] epoch loss: 0.858\n",
            "[10,  6000] epoch loss: 0.789\n",
            "[10,  7000] epoch loss: 0.852\n",
            "[10,  8000] epoch loss: 0.830\n",
            "[10,  9000] epoch loss: 0.822\n",
            "[10, 10000] epoch loss: 0.851\n",
            "[10, 11000] epoch loss: 0.833\n",
            "[10, 12000] epoch loss: 0.860\n",
            "[11,  1000] epoch loss: 0.742\n",
            "[11,  2000] epoch loss: 0.776\n",
            "[11,  3000] epoch loss: 0.812\n",
            "[11,  4000] epoch loss: 0.788\n",
            "[11,  5000] epoch loss: 0.787\n",
            "[11,  6000] epoch loss: 0.806\n",
            "[11,  7000] epoch loss: 0.825\n",
            "[11,  8000] epoch loss: 0.776\n",
            "[11,  9000] epoch loss: 0.815\n",
            "[11, 10000] epoch loss: 0.816\n",
            "[11, 11000] epoch loss: 0.843\n",
            "[11, 12000] epoch loss: 0.823\n",
            "[12,  1000] epoch loss: 0.728\n",
            "[12,  2000] epoch loss: 0.761\n",
            "[12,  3000] epoch loss: 0.755\n",
            "[12,  4000] epoch loss: 0.741\n",
            "[12,  5000] epoch loss: 0.819\n",
            "[12,  6000] epoch loss: 0.790\n",
            "[12,  7000] epoch loss: 0.778\n",
            "[12,  8000] epoch loss: 0.784\n",
            "[12,  9000] epoch loss: 0.780\n",
            "[12, 10000] epoch loss: 0.792\n",
            "[12, 11000] epoch loss: 0.788\n",
            "[12, 12000] epoch loss: 0.779\n",
            "[13,  1000] epoch loss: 0.724\n",
            "[13,  2000] epoch loss: 0.704\n",
            "[13,  3000] epoch loss: 0.740\n",
            "[13,  4000] epoch loss: 0.730\n",
            "[13,  5000] epoch loss: 0.747\n",
            "[13,  6000] epoch loss: 0.760\n",
            "[13,  7000] epoch loss: 0.754\n",
            "[13,  8000] epoch loss: 0.776\n",
            "[13,  9000] epoch loss: 0.764\n",
            "[13, 10000] epoch loss: 0.767\n",
            "[13, 11000] epoch loss: 0.759\n",
            "[13, 12000] epoch loss: 0.798\n",
            "[14,  1000] epoch loss: 0.690\n",
            "[14,  2000] epoch loss: 0.680\n",
            "[14,  3000] epoch loss: 0.719\n",
            "[14,  4000] epoch loss: 0.716\n",
            "[14,  5000] epoch loss: 0.741\n",
            "[14,  6000] epoch loss: 0.726\n",
            "[14,  7000] epoch loss: 0.728\n",
            "[14,  8000] epoch loss: 0.758\n",
            "[14,  9000] epoch loss: 0.732\n",
            "[14, 10000] epoch loss: 0.725\n",
            "[14, 11000] epoch loss: 0.769\n",
            "[14, 12000] epoch loss: 0.780\n",
            "[15,  1000] epoch loss: 0.678\n",
            "[15,  2000] epoch loss: 0.689\n",
            "[15,  3000] epoch loss: 0.698\n",
            "[15,  4000] epoch loss: 0.715\n",
            "[15,  5000] epoch loss: 0.719\n",
            "[15,  6000] epoch loss: 0.680\n",
            "[15,  7000] epoch loss: 0.727\n",
            "[15,  8000] epoch loss: 0.716\n",
            "[15,  9000] epoch loss: 0.723\n",
            "[15, 10000] epoch loss: 0.738\n",
            "[15, 11000] epoch loss: 0.714\n",
            "[15, 12000] epoch loss: 0.749\n",
            "[16,  1000] epoch loss: 0.622\n",
            "[16,  2000] epoch loss: 0.665\n",
            "[16,  3000] epoch loss: 0.692\n",
            "[16,  4000] epoch loss: 0.679\n",
            "[16,  5000] epoch loss: 0.704\n",
            "[16,  6000] epoch loss: 0.692\n",
            "[16,  7000] epoch loss: 0.724\n",
            "[16,  8000] epoch loss: 0.699\n",
            "[16,  9000] epoch loss: 0.697\n",
            "[16, 10000] epoch loss: 0.737\n",
            "[16, 11000] epoch loss: 0.713\n",
            "[16, 12000] epoch loss: 0.743\n",
            "[17,  1000] epoch loss: 0.637\n",
            "[17,  2000] epoch loss: 0.636\n",
            "[17,  3000] epoch loss: 0.682\n",
            "[17,  4000] epoch loss: 0.674\n",
            "[17,  5000] epoch loss: 0.649\n",
            "[17,  6000] epoch loss: 0.706\n",
            "[17,  7000] epoch loss: 0.706\n",
            "[17,  8000] epoch loss: 0.721\n",
            "[17,  9000] epoch loss: 0.694\n",
            "[17, 10000] epoch loss: 0.696\n",
            "[17, 11000] epoch loss: 0.731\n",
            "[17, 12000] epoch loss: 0.677\n",
            "[18,  1000] epoch loss: 0.617\n",
            "[18,  2000] epoch loss: 0.644\n",
            "[18,  3000] epoch loss: 0.661\n",
            "[18,  4000] epoch loss: 0.634\n",
            "[18,  5000] epoch loss: 0.653\n",
            "[18,  6000] epoch loss: 0.663\n",
            "[18,  7000] epoch loss: 0.668\n",
            "[18,  8000] epoch loss: 0.678\n",
            "[18,  9000] epoch loss: 0.680\n",
            "[18, 10000] epoch loss: 0.684\n",
            "[18, 11000] epoch loss: 0.706\n",
            "[18, 12000] epoch loss: 0.683\n",
            "[19,  1000] epoch loss: 0.573\n",
            "[19,  2000] epoch loss: 0.607\n",
            "[19,  3000] epoch loss: 0.617\n",
            "[19,  4000] epoch loss: 0.665\n",
            "[19,  5000] epoch loss: 0.659\n",
            "[19,  6000] epoch loss: 0.624\n",
            "[19,  7000] epoch loss: 0.652\n",
            "[19,  8000] epoch loss: 0.680\n",
            "[19,  9000] epoch loss: 0.653\n",
            "[19, 10000] epoch loss: 0.638\n",
            "[19, 11000] epoch loss: 0.671\n",
            "[19, 12000] epoch loss: 0.713\n",
            "[20,  1000] epoch loss: 0.589\n",
            "[20,  2000] epoch loss: 0.631\n",
            "[20,  3000] epoch loss: 0.611\n",
            "[20,  4000] epoch loss: 0.604\n",
            "[20,  5000] epoch loss: 0.611\n",
            "[20,  6000] epoch loss: 0.615\n",
            "[20,  7000] epoch loss: 0.676\n",
            "[20,  8000] epoch loss: 0.670\n",
            "[20,  9000] epoch loss: 0.658\n",
            "[20, 10000] epoch loss: 0.648\n",
            "[20, 11000] epoch loss: 0.653\n",
            "[20, 12000] epoch loss: 0.669\n",
            "[21,  1000] epoch loss: 0.558\n",
            "[21,  2000] epoch loss: 0.572\n",
            "[21,  3000] epoch loss: 0.568\n",
            "[21,  4000] epoch loss: 0.613\n",
            "[21,  5000] epoch loss: 0.655\n",
            "[21,  6000] epoch loss: 0.635\n",
            "[21,  7000] epoch loss: 0.652\n",
            "[21,  8000] epoch loss: 0.651\n",
            "[21,  9000] epoch loss: 0.630\n",
            "[21, 10000] epoch loss: 0.638\n",
            "[21, 11000] epoch loss: 0.638\n",
            "[21, 12000] epoch loss: 0.654\n",
            "[22,  1000] epoch loss: 0.549\n",
            "[22,  2000] epoch loss: 0.585\n",
            "[22,  3000] epoch loss: 0.568\n",
            "[22,  4000] epoch loss: 0.599\n",
            "[22,  5000] epoch loss: 0.616\n",
            "[22,  6000] epoch loss: 0.600\n",
            "[22,  7000] epoch loss: 0.609\n",
            "[22,  8000] epoch loss: 0.609\n",
            "[22,  9000] epoch loss: 0.627\n",
            "[22, 10000] epoch loss: 0.609\n",
            "[22, 11000] epoch loss: 0.629\n",
            "[22, 12000] epoch loss: 0.662\n",
            "[23,  1000] epoch loss: 0.542\n",
            "[23,  2000] epoch loss: 0.563\n",
            "[23,  3000] epoch loss: 0.572\n",
            "[23,  4000] epoch loss: 0.593\n",
            "[23,  5000] epoch loss: 0.599\n",
            "[23,  6000] epoch loss: 0.606\n",
            "[23,  7000] epoch loss: 0.600\n",
            "[23,  8000] epoch loss: 0.598\n",
            "[23,  9000] epoch loss: 0.612\n",
            "[23, 10000] epoch loss: 0.620\n",
            "[23, 11000] epoch loss: 0.629\n",
            "[23, 12000] epoch loss: 0.622\n",
            "[24,  1000] epoch loss: 0.525\n",
            "[24,  2000] epoch loss: 0.579\n",
            "[24,  3000] epoch loss: 0.570\n",
            "[24,  4000] epoch loss: 0.579\n",
            "[24,  5000] epoch loss: 0.599\n",
            "[24,  6000] epoch loss: 0.552\n",
            "[24,  7000] epoch loss: 0.588\n",
            "[24,  8000] epoch loss: 0.597\n",
            "[24,  9000] epoch loss: 0.611\n",
            "[24, 10000] epoch loss: 0.619\n",
            "[24, 11000] epoch loss: 0.602\n",
            "[24, 12000] epoch loss: 0.622\n",
            "[25,  1000] epoch loss: 0.515\n",
            "[25,  2000] epoch loss: 0.540\n",
            "[25,  3000] epoch loss: 0.552\n",
            "[25,  4000] epoch loss: 0.574\n",
            "[25,  5000] epoch loss: 0.534\n",
            "[25,  6000] epoch loss: 0.571\n",
            "[25,  7000] epoch loss: 0.574\n",
            "[25,  8000] epoch loss: 0.599\n",
            "[25,  9000] epoch loss: 0.587\n",
            "[25, 10000] epoch loss: 0.611\n",
            "[25, 11000] epoch loss: 0.601\n",
            "[25, 12000] epoch loss: 0.600\n",
            "[26,  1000] epoch loss: 0.525\n",
            "[26,  2000] epoch loss: 0.537\n",
            "[26,  3000] epoch loss: 0.531\n",
            "[26,  4000] epoch loss: 0.562\n",
            "[26,  5000] epoch loss: 0.561\n",
            "[26,  6000] epoch loss: 0.575\n",
            "[26,  7000] epoch loss: 0.591\n",
            "[26,  8000] epoch loss: 0.607\n",
            "[26,  9000] epoch loss: 0.579\n",
            "[26, 10000] epoch loss: 0.581\n",
            "[26, 11000] epoch loss: 0.588\n",
            "[26, 12000] epoch loss: 0.594\n",
            "[27,  1000] epoch loss: 0.501\n",
            "[27,  2000] epoch loss: 0.508\n",
            "[27,  3000] epoch loss: 0.534\n",
            "[27,  4000] epoch loss: 0.533\n",
            "[27,  5000] epoch loss: 0.534\n",
            "[27,  6000] epoch loss: 0.566\n",
            "[27,  7000] epoch loss: 0.541\n",
            "[27,  8000] epoch loss: 0.610\n",
            "[27,  9000] epoch loss: 0.554\n",
            "[27, 10000] epoch loss: 0.586\n",
            "[27, 11000] epoch loss: 0.557\n",
            "[27, 12000] epoch loss: 0.603\n",
            "[28,  1000] epoch loss: 0.490\n",
            "[28,  2000] epoch loss: 0.512\n",
            "[28,  3000] epoch loss: 0.498\n",
            "[28,  4000] epoch loss: 0.533\n",
            "[28,  5000] epoch loss: 0.551\n",
            "[28,  6000] epoch loss: 0.544\n",
            "[28,  7000] epoch loss: 0.524\n",
            "[28,  8000] epoch loss: 0.548\n",
            "[28,  9000] epoch loss: 0.599\n",
            "[28, 10000] epoch loss: 0.587\n",
            "[28, 11000] epoch loss: 0.552\n",
            "[28, 12000] epoch loss: 0.572\n",
            "[29,  1000] epoch loss: 0.472\n",
            "[29,  2000] epoch loss: 0.505\n",
            "[29,  3000] epoch loss: 0.521\n",
            "[29,  4000] epoch loss: 0.490\n",
            "[29,  5000] epoch loss: 0.558\n",
            "[29,  6000] epoch loss: 0.536\n",
            "[29,  7000] epoch loss: 0.507\n",
            "[29,  8000] epoch loss: 0.565\n",
            "[29,  9000] epoch loss: 0.563\n",
            "[29, 10000] epoch loss: 0.563\n",
            "[29, 11000] epoch loss: 0.578\n",
            "[29, 12000] epoch loss: 0.580\n",
            "[30,  1000] epoch loss: 0.469\n",
            "[30,  2000] epoch loss: 0.496\n",
            "[30,  3000] epoch loss: 0.501\n",
            "[30,  4000] epoch loss: 0.542\n",
            "[30,  5000] epoch loss: 0.519\n",
            "[30,  6000] epoch loss: 0.515\n",
            "[30,  7000] epoch loss: 0.532\n",
            "[30,  8000] epoch loss: 0.561\n",
            "[30,  9000] epoch loss: 0.523\n",
            "[30, 10000] epoch loss: 0.544\n",
            "[30, 11000] epoch loss: 0.562\n",
            "[30, 12000] epoch loss: 0.581\n",
            "Finished Training\n"
          ]
        }
      ],
      "source": [
        "for epoch in range(30):  # 데이터셋을 n차례 반복하여 학습합니다. 또한 range 속의 숫자도 바꾸어 학습률을 높이는 것도 도움이 될 겁니다!\n",
        "\n",
        "    running_loss = 0.0\n",
        "    for i, data in enumerate(trainloader, 0):\n",
        "        # 입력을 받은 후\n",
        "        inputs, labels = data\n",
        "        # 변화도(Gradient) 매개변수를 0으로 만든 후\n",
        "        optimizer.zero_grad()\n",
        "\n",
        "        # 순전파 + 역전파 + 최적화\n",
        "        outputs = net(inputs)\n",
        "        loss = criterion(outputs, labels)\n",
        "        loss.backward()\n",
        "        optimizer.step()\n",
        "\n",
        "        # 통계 출력\n",
        "\n",
        "        running_loss += loss.item()\n",
        "        # 2000개의 data를 학습할때마다 loss 출력\n",
        "        if i % 1000 == 999:    # % 뒤에 들어갈 숫자의 크기를 조정하여 batch_size를 조정할 수 있습니다! 그리고 i % n == n-1:로 숫자를 맞춰주셔야 한다는 점 잊지 마세요!\n",
        "            print('[%d, %5d] epoch loss: %.3f' %\n",
        "                  (epoch + 1, i + 1, running_loss / 1000)) # running_loss 우측의 숫자 역시 윗줄에서 바꾼 batch_size로 바꿔주어야 합니다!\n",
        "            running_loss = 0.0\n",
        "\n",
        "print('Finished Training')"
      ]
    },
    {
      "cell_type": "code",
      "source": [
        "dataiter = iter(testloader)\n",
        "images, labels = dataiter.__next__()\n",
        "\n",
        "# print images\n",
        "imshow(torchvision.utils.make_grid(images))\n",
        "print('GroundTruth: ', ' '.join('%5s' % classes[labels[j]] for j in range(4)))\n",
        "plt.show()"
      ],
      "metadata": {
        "id": "rNF7TthMfA37",
        "colab": {
          "base_uri": "https://localhost:8080/",
          "height": 211
        },
        "outputId": "32186124-e7d7-4f19-ae97-f35c80dd63a3"
      },
      "execution_count": 8,
      "outputs": [
        {
          "output_type": "stream",
          "name": "stdout",
          "text": [
            "GroundTruth:    cat  ship  ship plane\n"
          ]
        },
        {
          "output_type": "display_data",
          "data": {
            "text/plain": [
              "<Figure size 640x480 with 1 Axes>"
            ],
            "image/png": "[encoded data removed]"
          },
          "metadata": {}
        }
      ]
    },
    {
      "cell_type": "code",
      "source": [
        "outputs = net(images)\n",
        "_, predicted = torch.max(outputs, 1)\n",
        "\n",
        "print('Predicted: ', ' '.join('%5s' % classes[predicted[j]]\n",
        "                              for j in range(4)))"
      ],
      "metadata": {
        "id": "NJqS91M8hYv1",
        "colab": {
          "base_uri": "https://localhost:8080/"
        },
        "outputId": "477b3c7f-99b3-4696-c0ad-528bb8308c9e"
      },
      "execution_count": 9,
      "outputs": [
        {
          "output_type": "stream",
          "name": "stdout",
          "text": [
            "Predicted:    cat  ship   car plane\n"
          ]
        }
      ]
    },
    {
      "cell_type": "code",
      "source": [
        "#과제2에서 요구하는 accuracy의 결과값이 나오는 code입니다! 캡처를 하실 때는 해당 코드의 결과를 캡처하시고, 이를 제출하여 주시기 바랍니다~\n",
        "correct = 0\n",
        "total = 0\n",
        "with torch.no_grad():\n",
        "    for data in testloader:\n",
        "        images, labels = data\n",
        "        outputs = net(images)\n",
        "        _, predicted = torch.max(outputs.data, 1)\n",
        "        total += labels.size(0)\n",
        "        correct += (predicted == labels).sum().item()\n",
        "\n",
        "print('Accuracy of the network on the 10000 test images: %d %%' % (\n",
        "    100 * correct / total))"
      ],
      "metadata": {
        "id": "wKItpc_2heNT",
        "colab": {
          "base_uri": "https://localhost:8080/"
        },
        "outputId": "314d1ad6-c13f-461b-f04e-809be768a461"
      },
      "execution_count": 10,
      "outputs": [
        {
          "output_type": "stream",
          "name": "stdout",
          "text": [
            "Accuracy of the network on the 10000 test images: 62 %\n"
          ]
        }
      ]
    },
    {
      "cell_type": "code",
      "source": [
        "class_correct = list(0. for i in range(10))\n",
        "class_total = list(0. for i in range(10))\n",
        "with torch.no_grad():\n",
        "    for data in testloader:\n",
        "        images, labels = data\n",
        "        outputs = net(images)\n",
        "        _, predicted = torch.max(outputs, 1)\n",
        "        c = (predicted == labels).squeeze()\n",
        "        for i in range(4):\n",
        "            label = labels[i]\n",
        "            class_correct[label] += c[i].item()\n",
        "            class_total[label] += 1\n",
        "\n",
        "\n",
        "for i in range(10):\n",
        "    print('Accuracy of %5s : %2d %%' % (\n",
        "        classes[i], 100 * class_correct[i] / class_total[i]))"
      ],
      "metadata": {
        "id": "2VD2MZ91hkk1",
        "colab": {
          "base_uri": "https://localhost:8080/"
        },
        "outputId": "031b35f7-887c-40a4-c8cd-b685358d885a"
      },
      "execution_count": 11,
      "outputs": [
        {
          "output_type": "stream",
          "name": "stdout",
          "text": [
            "Accuracy of plane : 72 %\n",
            "Accuracy of   car : 74 %\n",
            "Accuracy of  bird : 47 %\n",
            "Accuracy of   cat : 34 %\n",
            "Accuracy of  deer : 57 %\n",
            "Accuracy of   dog : 49 %\n",
            "Accuracy of  frog : 71 %\n",
            "Accuracy of horse : 70 %\n",
            "Accuracy of  ship : 76 %\n",
            "Accuracy of truck : 67 %\n"
          ]
        }
      ]
    },
    {
      "cell_type": "markdown",
      "source": [
        "출처: https://m.blog.naver.com/ckdgus1433/221406102936의 튜토리얼을 참고하였습니다!"
      ],
      "metadata": {
        "id": "FXdtUROHSU4_"
      }
    },
    {
      "cell_type": "markdown",
      "source": [
        "#과제"
      ],
      "metadata": {
        "id": "SXfXZ7HorjRI"
      }
    },
    {
      "cell_type": "markdown",
      "source": [
        "##1. 실습 파일의 overfitting model의 optimizer, epoch, learning rate 등을 변경하여 실행한 결과와, underfitting의 layer를 2개 이상 추가하여 실행한 결과를 각각 캡처하여 overfit, underfit이라는 이름으로 깃허브에 제출하기."
      ],
      "metadata": {
        "id": "PxXa62w5rmyq"
      }
    },
    {
      "cell_type": "markdown",
      "source": [
        "##2. 과제 파일을 수정하여 Test image에 대한 accuracy를 53% 이상으로 높이고, 모델의 결과에 대한 캡처본과 파일을 모두 깃허브에 제출하기. <br>\n",
        "Hint: 파일 중간중간에 설명이 있는 부분을 참고하시면 아마 될 겁니다!<br>\n",
        "(layer 추가, optimizer 변경, learning rate 조정 등...)"
      ],
      "metadata": {
        "id": "IN3brBzmyaTu"
      }
    },
    {
      "cell_type": "markdown",
      "source": [
        "##3. MLP model과 기존 ML model의 차이점을 최소 2가지 측면에서 서술하기. <br>\n",
        "답1: ML과 다르게 MLP는 역전파 과정을 통해 모델을 학습한다.   \n",
        "답2: ML과 다르게 MLP 모델은 신경망을 통해 은닉층, 가중치, 활성화 함수를 통해  비선형성을 학습할 수 있다.  "
      ],
      "metadata": {
        "id": "4BWi0Uspyaba"
      }
    },
    {
      "cell_type": "markdown",
      "source": [
        "##4. Backpropagation이 무엇인지 자신의 언어로 한줄 요약!    <br>\n",
        "답: 신경망을 통과 한 이후, gradient descent를 통해 파라미터를 역방향으로 업데이트 하는 과정을 반복하여 최적의 파라미터를 찾는 과정이다.\n"
      ],
      "metadata": {
        "id": "J8qI2lfvyajC"
      }
    }
  ],
  "metadata": {
    "accelerator": "GPU",
    "colab": {
      "provenance": [],
      "gpuType": "T4"
    },
    "kernelspec": {
      "display_name": "Python 3",
      "name": "python3"
    },
    "language_info": {
      "name": "python"
    }
  },
  "nbformat": 4,
  "nbformat_minor": 0
}